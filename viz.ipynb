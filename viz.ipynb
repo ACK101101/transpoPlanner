{
 "cells": [
  {
   "cell_type": "code",
   "execution_count": 36,
   "metadata": {},
   "outputs": [
    {
     "name": "stdout",
     "output_type": "stream",
     "text": [
      "The autoreload extension is already loaded. To reload it, use:\n",
      "  %reload_ext autoreload\n"
     ]
    }
   ],
   "source": [
    "%load_ext autoreload\n",
    "%autoreload 2\n",
    "\n",
    "import yaml\n",
    "import mesa\n",
    "from mesa.experimental import JupyterViz\n",
    "import solara\n",
    "import matplotlib.pyplot as plt\n",
    "from matplotlib.figure import Figure\n",
    "from trans_infra.trans_infra.simulator import TransInfraNetworkModel\n",
    "import networkx as nx\n",
    "import pandas as pd"
   ]
  },
  {
   "cell_type": "code",
   "execution_count": 37,
   "metadata": {},
   "outputs": [],
   "source": [
    "def make_trans_graph(model):\n",
    "    G_trans = model.G_trans\n",
    "    fig = Figure()\n",
    "    ax = fig.subplots()\n",
    "    \n",
    "    osmid_2_idx = {k: v for (k, v) in zip(G_trans.nodes, range(len(G_trans.nodes))) }\n",
    "    \n",
    "    nodes, edges = G_trans.nodes(data=True), G_trans.edges(data=True)\n",
    "    \n",
    "    max_road_len = max([ d['length'] for (u, v, d) in edges ])\n",
    "    layout = { n[0] : [ n[1]['x'], n[1]['y'] ] for n in G_trans.nodes(data=True) }\n",
    "    \n",
    "    node_color = [ v['color'] for (k, v) in nodes ]\n",
    "    edge_color = [ d['color'] for (u, v, d) in edges ]      \n",
    "    edge_weight = [ d['length'] / max_road_len for (u, v, d) in edges ]\n",
    "    node_weight = [1] * len(nodes)\n",
    "    for a in model.space.get_all_cell_contents():\n",
    "        node_weight[ osmid_2_idx[a.pos] ] += 3\n",
    "\n",
    "    nx.draw_networkx(G_trans, pos=layout,\n",
    "                    edge_color=edge_color, \n",
    "                    node_color=node_color,\n",
    "                    width=edge_weight,\n",
    "                    node_size=node_weight,\n",
    "                    with_labels=False,\n",
    "                    ax=ax)\n",
    "    \n",
    "    ax.set_title(\"Places and Their Connections\")\n",
    "    solara.FigureMatplotlib(fig)"
   ]
  },
  {
   "cell_type": "code",
   "execution_count": 38,
   "metadata": {},
   "outputs": [],
   "source": [
    "def make_social_graph(model):\n",
    "    fig = Figure()\n",
    "    ax = fig.subplots()\n",
    "    \n",
    "    G_socia = nx.from_scipy_sparse_array(model.A_social)\n",
    "    pos = nx.spring_layout(G_socia)\n",
    "    betCent = nx.betweenness_centrality(G_socia, normalized=True, endpoints=True)\n",
    "    node_color = [20000.0 * G_socia.degree(v) for v in G_socia]\n",
    "    node_size =  [v * 1000 for v in betCent.values()]\n",
    "    nx.draw_networkx(G_socia, pos=pos, with_labels=True,\n",
    "                    node_color=node_color, node_size=node_size,\n",
    "                    width=[e[2] for e in G_socia.edges.data('weight')],\n",
    "                    font_size=5, ax=ax)\n",
    "    \n",
    "    ax.set_title(\"Social Ties\")\n",
    "    solara.FigureMatplotlib(fig)"
   ]
  },
  {
   "cell_type": "code",
   "execution_count": 39,
   "metadata": {},
   "outputs": [],
   "source": [
    "def make_resource_graph(model):\n",
    "    fig = Figure()\n",
    "    ax = fig.subplots()\n",
    "    \n",
    "    data = []\n",
    "    for a in model.space.get_all_cell_contents():\n",
    "        data.append([a.unique_id, *a.curr_resources])\n",
    "    df = pd.DataFrame(data, columns=[\"Agent ID\", \"Sleep\", \"Work\", \"Social\"])\n",
    "\n",
    "    ax.bar([\"Sleep\", \"Work\", \"Social\"],\n",
    "           df[[\"Sleep\", \"Work\", \"Social\"]].mean(axis=0).to_list(),\n",
    "           yerr=df[[\"Sleep\", \"Work\", \"Social\"]].std(axis=0).to_list(),\n",
    "           ecolor='black', capsize=10, alpha=0.5)\n",
    "    ax.set_title(\"Agent Resource Counts\")\n",
    "\n",
    "    solara.FigureMatplotlib(fig)\n",
    "    "
   ]
  },
  {
   "cell_type": "code",
   "execution_count": 40,
   "metadata": {},
   "outputs": [],
   "source": [
    "def agent_portrayal(graph):\n",
    "    nodes, edges = graph.nodes(data=True), graph.edges(data=True)\n",
    "    \n",
    "    max_road_len = max([ d['length'] for (u, v, d) in edges ])\n",
    "\n",
    "    node_color = [ v['color'] for (k, v) in nodes ]\n",
    "    edge_color = [ d['color'] for (u, v, d) in edges ]      \n",
    "    edge_weight = [ d['length'] / max_road_len for (u, v, d) in edges ]\n",
    "    \n",
    "    return {\n",
    "        \"width\": edge_weight,\n",
    "        \"edge_color\": edge_color,\n",
    "        \"node_color\": node_color,\n",
    "        \"node_size\": 10\n",
    "    }"
   ]
  },
  {
   "cell_type": "code",
   "execution_count": 41,
   "metadata": {},
   "outputs": [],
   "source": [
    "import networkx as nx\n",
    "import osmnx as ox\n",
    "\n",
    "def load_network(graph_file) -> nx.Graph:\n",
    "    \"\"\"loads in modified OSM graph\"\"\"\n",
    "    G_trans = ox.load_graphml(\n",
    "                graph_file,\n",
    "                node_dtypes={'idx':int, 'x':float, 'y':float, 'general0':float, 'general1':float, \n",
    "                            'general2':float, 'general3':float, 'general4':float},    \n",
    "                edge_dtypes={'u':int, 'v':int, 'speed':float, 'capacity':float, 'length':float,\n",
    "                             'general0':float, 'general1':float, 'general2':float, 'general3':float})\n",
    "    G_trans = G_trans.to_undirected()                                   # make undirected\n",
    "    return G_trans"
   ]
  },
  {
   "cell_type": "code",
   "execution_count": 46,
   "metadata": {},
   "outputs": [],
   "source": [
    "osm_file = \"./osm_dataset/raw/bradenton.osm\"\n",
    "graph = load_network(osm_file)\n",
    "\n",
    "model_params = {\n",
    "    \"num_agents\": {\n",
    "        \"type\": \"SliderInt\",\n",
    "        \"value\": 100,\n",
    "        \"label\": \"Number of agents:\",\n",
    "        \"min\": 25,\n",
    "        \"max\": 300,\n",
    "        \"step\": 1,\n",
    "    },\n",
    "    \"max_episode\": {\n",
    "        \"type\": \"SliderInt\",\n",
    "        \"value\": 24,\n",
    "        \"label\": \"Number of agents:\",\n",
    "        \"min\": 10,\n",
    "        \"max\": 24,\n",
    "        \"step\": 1,\n",
    "    },\n",
    "    \"graph\": graph\n",
    "}"
   ]
  },
  {
   "cell_type": "code",
   "execution_count": 47,
   "metadata": {},
   "outputs": [
    {
     "data": {
      "application/vnd.jupyter.widget-view+json": {
       "model_id": "f89ea5885f8c4036ad1730fcc319f773",
       "version_major": 2,
       "version_minor": 0
      },
      "text/html": [
       "Cannot show widget. You probably want to rerun the code cell above (<i>Click in the code cell, and press Shift+Enter <kbd>⇧</kbd>+<kbd>↩</kbd></i>)."
      ],
      "text/plain": [
       "Cannot show ipywidgets in text"
      ]
     },
     "metadata": {},
     "output_type": "display_data"
    }
   ],
   "source": [
    "page = JupyterViz(\n",
    "    TransInfraNetworkModel,\n",
    "    model_params,\n",
    "    measures=[make_trans_graph, make_social_graph, make_resource_graph],\n",
    "    name=\"Transit Network Model\",\n",
    "    agent_portrayal=agent_portrayal,\n",
    ")\n",
    "# This is required to render the visualization in the Jupyter notebook\n",
    "page"
   ]
  }
 ],
 "metadata": {
  "kernelspec": {
   "display_name": "graphs",
   "language": "python",
   "name": "python3"
  },
  "language_info": {
   "codemirror_mode": {
    "name": "ipython",
    "version": 3
   },
   "file_extension": ".py",
   "mimetype": "text/x-python",
   "name": "python",
   "nbconvert_exporter": "python",
   "pygments_lexer": "ipython3",
   "version": "3.9.18"
  }
 },
 "nbformat": 4,
 "nbformat_minor": 2
}
