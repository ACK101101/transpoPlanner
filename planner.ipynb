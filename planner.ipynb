{
 "cells": [
  {
   "cell_type": "markdown",
   "metadata": {},
   "source": [
    "## Architecture\n",
    "GOAL: modify transportation graph to result in more connected social networks\n",
    "\n",
    "Graph G -> node encoder (trainable) -> \n",
    "        classify network by social network strength /\n",
    "        propose attribute changes for edges & nodes to minimize social loss criterion\n",
    "            (loss calculated via simulation?)\n",
    "\n",
    "\n",
    "- does the node encoder have to be retrained for each new graph?\n",
    "\n",
    "GraphSAGE: predicts embedding of new node without retraining (dynamic graph)\n",
    "\n",
    "    Propose new nodes with embedding similarity with preexisting nodes that are social hubs\n"
   ]
  },
  {
   "cell_type": "markdown",
   "metadata": {},
   "source": [
    "- graph embedding\n",
    "    - gmel?\n",
    "- action is passing modified edge / node attr (make additional attr?)\n",
    "    - make into cleaner vector to be passed as state\n",
    "- generate k candidate modification -> compute reward -> choose best -> next state\n",
    "\n",
    "- env:\n",
    "    - edges: id, general, length (speed and capacity implicit?)\n",
    "        - precalc betweenness?\n",
    "    - input embedding (edges):\n",
    "        - [ general, length, betweenness, 0, ..., 0 ]\n",
    "- action:\n",
    "    - modified node general or edge general"
   ]
  },
  {
   "cell_type": "code",
   "execution_count": null,
   "metadata": {},
   "outputs": [],
   "source": []
  }
 ],
 "metadata": {
  "kernelspec": {
   "display_name": "graphs",
   "language": "python",
   "name": "python3"
  },
  "language_info": {
   "codemirror_mode": {
    "name": "ipython",
    "version": 3
   },
   "file_extension": ".py",
   "mimetype": "text/x-python",
   "name": "python",
   "nbconvert_exporter": "python",
   "pygments_lexer": "ipython3",
   "version": "3.9.18"
  }
 },
 "nbformat": 4,
 "nbformat_minor": 2
}
